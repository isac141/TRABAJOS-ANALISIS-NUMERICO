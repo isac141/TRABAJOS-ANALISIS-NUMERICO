{
 "cells": [
  {
   "cell_type": "code",
   "execution_count": 1,
   "metadata": {},
   "outputs": [],
   "source": [
    "# El siguiente algoritmo es el de RK4 para una EDO\n",
    "import numpy as np\n",
    "t=np.linspace(0,2,1000)\n",
    "y=np.linspace(-100,100,1000)\n",
    "\n",
    "# si tengo h  uso este codigo\n",
    "w0=1/2 # w0 = condicion inicial\n",
    "a=0 #limite inferior de t\n",
    "b=2 #limite superior de t\n",
    "h=0.5 # h = numero de saltos\n",
    "N=int((b-a)/h)\n",
    "\n",
    "# si tengo N  uso este codigo\n",
    "#w0=-1.4427 # w0 = condicion inicial\n",
    "#a=0 #limite inferior de t\n",
    "#b=2 #limite superior de t\n",
    "#N=3\n",
    "#h=(b-a)/N # h = numero de saltos"
   ]
  },
  {
   "cell_type": "code",
   "execution_count": 2,
   "metadata": {},
   "outputs": [],
   "source": [
    "def f(t,y):\n",
    "    f1=y-t**2+1\n",
    "    return f1"
   ]
  },
  {
   "cell_type": "code",
   "execution_count": 3,
   "metadata": {},
   "outputs": [
    {
     "name": "stdout",
     "output_type": "stream",
     "text": [
      "La solucion t1_0 es t0 = 0.0\n",
      "La solucion t1_1 es t1 = 0.5\n",
      "La solucion t1_2 es t2 = 1.0\n",
      "La solucion t1_3 es t3 = 1.5\n",
      "La solucion t1_4 es t4 = 2.0\n"
     ]
    }
   ],
   "source": [
    "t1=[]\n",
    "for i in range(0,N+1):\n",
    "    t1.append(round(a+i*h,4))\n",
    "    print(f'La solucion t1_{i} es t{i} = {t1[i]}')"
   ]
  },
  {
   "cell_type": "code",
   "execution_count": 4,
   "metadata": {},
   "outputs": [],
   "source": [
    "w=[w0]"
   ]
  },
  {
   "cell_type": "code",
   "execution_count": 5,
   "metadata": {},
   "outputs": [
    {
     "name": "stdout",
     "output_type": "stream",
     "text": [
      "La solucion y(t_0) es w0 = 0.5\n",
      "La solucion y(t_1) es w1 = 1.4251302\n",
      "La solucion y(t_2) es w2 = 2.6396026\n",
      "La solucion y(t_3) es w3 = 4.0068189\n",
      "La solucion y(t_4) es w4 = 5.3016051\n"
     ]
    }
   ],
   "source": [
    "for i in range(0,N+1):\n",
    "    k1=h*f(t1[i],w[i])\n",
    "    k2=h*f(t1[i]+h/2,w[i]+k1/2)\n",
    "    k3=h*f(t1[i]+h/2,w[i]+k2/2)\n",
    "    k4=h*f(t1[i]+h,w[i]+k3)\n",
    "    w.append(round(w[i]+(1/6)*(k1+2*k2+2*k3+k4),7))\n",
    "    print(f'La solucion y(t_{i}) es w{i} = {w[i]}')\n",
    "    \n",
    "    "
   ]
  },
  {
   "cell_type": "code",
   "execution_count": null,
   "metadata": {},
   "outputs": [],
   "source": []
  }
 ],
 "metadata": {
  "kernelspec": {
   "display_name": "Python 3 (ipykernel)",
   "language": "python",
   "name": "python3"
  },
  "language_info": {
   "codemirror_mode": {
    "name": "ipython",
    "version": 3
   },
   "file_extension": ".py",
   "mimetype": "text/x-python",
   "name": "python",
   "nbconvert_exporter": "python",
   "pygments_lexer": "ipython3",
   "version": "3.9.7"
  }
 },
 "nbformat": 4,
 "nbformat_minor": 4
}
